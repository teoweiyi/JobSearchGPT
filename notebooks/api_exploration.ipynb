{
 "cells": [
  {
   "cell_type": "code",
   "execution_count": 37,
   "metadata": {},
   "outputs": [],
   "source": [
    "import openai, os\n",
    "\n",
    "# get the API key from the environment variable\n",
    "OPENAI_ORGANIZATION_ID = os.getenv(\"OPENAI_ORGANIZATION_ID\")\n",
    "OPENAI_API_KEY = os.getenv(\"OPENAI_API_KEY\")\n",
    "\n",
    "# set the API key for the openai authentication\n",
    "openai.organization = OPENAI_ORGANIZATION_ID\n",
    "openai.api_key = OPENAI_API_KEY"
   ]
  },
  {
   "cell_type": "code",
   "execution_count": 38,
   "metadata": {},
   "outputs": [
    {
     "name": "stdout",
     "output_type": "stream",
     "text": [
      "{\n",
      "  \"choices\": [\n",
      "    {\n",
      "      \"finish_reason\": \"stop\",\n",
      "      \"index\": 0,\n",
      "      \"message\": {\n",
      "        \"content\": \"\\n\\nAs an AI language model, I do not have the ability to taste or eat, but I can tell you that chicken rice is a popular dish in many cultures, especially in Asian countries. It typically consists of rice that is cooked with chicken stock and often includes chicken meat or pieces. The taste can vary depending on the ingredients used and the region it comes from, but it is generally savory, aromatic, and flavorful. The rice is usually cooked until it is fluffy and slightly sticky, and the chicken gives it a rich and satisfying taste. Many people enjoy adding soy sauce or other condiments to enhance the flavor.\",\n",
      "        \"role\": \"assistant\"\n",
      "      }\n",
      "    }\n",
      "  ],\n",
      "  \"created\": 1679219347,\n",
      "  \"id\": \"chatcmpl-6vjwx6APgqAdynk1KKa1ap9pryQn9\",\n",
      "  \"model\": \"gpt-3.5-turbo-0301\",\n",
      "  \"object\": \"chat.completion\",\n",
      "  \"usage\": {\n",
      "    \"completion_tokens\": 124,\n",
      "    \"prompt_tokens\": 14,\n",
      "    \"total_tokens\": 138\n",
      "  }\n",
      "}\n"
     ]
    }
   ],
   "source": [
    "# Examine output of chat completion\n",
    "completion = openai.ChatCompletion.create(\n",
    "    model=\"gpt-3.5-turbo\",\n",
    "    messages=[{\"role\":\"user\", \"content\": \"how does chicken rice taste like?\"}]\n",
    ")\n",
    "\n",
    "print(completion)"
   ]
  },
  {
   "cell_type": "code",
   "execution_count": 39,
   "metadata": {},
   "outputs": [],
   "source": [
    "# Define function to generate cover letter\n",
    "# TODO: Include resume as an input, in addition to JD.\n",
    "message_history = [{\"role\":\"user\",\"content\":\"You are a bot that generates cover letters when given a job description. Reply only with a generated cover letter to further input. If you understand, say OK\"},\n",
    "                   {\"role\":\"assistant\",\"content\":\"OK\"}]\n",
    "\n",
    "def chat(inp, role=\"user\"):\n",
    "    message_history.append({\"role\": role, \"content\": inp})\n",
    "\n",
    "    completion = openai.ChatCompletion.create(\n",
    "        model=\"gpt-3.5-turbo\",\n",
    "        messages=message_history\n",
    "    )\n",
    "\n",
    "    reply_content = completion.choices[0].message.content\n",
    "    # print(reply_content)\n",
    "    message_history.append({\"role\": \"assistant\", \"content\":reply_content})\n",
    "    return reply_content"
   ]
  },
  {
   "cell_type": "code",
   "execution_count": 40,
   "metadata": {},
   "outputs": [
    {
     "name": "stdout",
     "output_type": "stream",
     "text": [
      "Dear Hiring Manager,\n",
      "\n",
      "I am excited to apply for the position of Senior Machine Learning Engineer at your company. As an experienced data scientist, I believe that my skills and experience align perfectly with the requirements for this role.\n",
      "\n",
      "Throughout my career, I have developed expertise in communicating effectively with stakeholders to understand business requirements and translate them into successful data-driven solutions. I have developed a deep understanding of different data science frameworks and methodologies, and I am always striving to innovate and improve on existing processes.\n",
      "\n",
      "One of my strengths is my ability to develop data applications and packages that query large databases to provide insights that drive decision-making. I am well-versed in SQL and NoSQL databases and have experience in optimizing search and retrieval of data to ensure optimal performance.\n",
      "\n",
      "Finally, I am committed to providing in-depth engineering support, including debugging and performance optimizations, to ensure the successful execution of all projects. I understand the importance of communicating project updates effectively, and I have a proven track record of doing so.\n",
      "\n",
      "Thank you for considering my application. I look forward to the opportunity to meet with you and discuss how I can contribute to your team.\n",
      "\n",
      "Sincerely,\n",
      "[Your Name]\n"
     ]
    }
   ],
   "source": [
    "# Print generated cover letter\n",
    "print(chat(\"The job title is: Senior Machine Learning Engineer. The job responsibilities are: Communicate effectively understand business requirements, frame challenging problems within data science frameworks and develop a roadmap to execution\\\n",
    "Innovate on the analysis/ modelling methodology to realize the full value of the data\\\n",
    "Develop data applications and packages querying large databases to provide insights.\\\n",
    "Provide in-depth engineering support (debugging, performance optimizations, etc.) focussing on search and retrieval of data using SQL/NoSQL databases.\\\n",
    "Communicate project updates effectively to stakeholders\"))"
   ]
  },
  {
   "cell_type": "code",
   "execution_count": 41,
   "metadata": {},
   "outputs": [
    {
     "name": "stdout",
     "output_type": "stream",
     "text": [
      "[{'role': 'user', 'content': 'You are a bot that generates cover letters when given a job description. Reply only with a generated cover letter to further input. If you understand, say OK'}, {'role': 'assistant', 'content': 'OK'}, {'role': 'user', 'content': 'The job title is: Senior Machine Learning Engineer. The job responsibilities are: Communicate effectively understand business requirements, frame challenging problems within data science frameworks and develop a roadmap to executionInnovate on the analysis/ modelling methodology to realize the full value of the dataDevelop data applications and packages querying large databases to provide insights.Provide in-depth engineering support (debugging, performance optimizations, etc.) focussing on search and retrieval of data using SQL/NoSQL databases.Communicate project updates effectively to stakeholders'}, {'role': 'assistant', 'content': 'Dear Hiring Manager,\\n\\nI am excited to apply for the position of Senior Machine Learning Engineer at your company. As an experienced data scientist, I believe that my skills and experience align perfectly with the requirements for this role.\\n\\nThroughout my career, I have developed expertise in communicating effectively with stakeholders to understand business requirements and translate them into successful data-driven solutions. I have developed a deep understanding of different data science frameworks and methodologies, and I am always striving to innovate and improve on existing processes.\\n\\nOne of my strengths is my ability to develop data applications and packages that query large databases to provide insights that drive decision-making. I am well-versed in SQL and NoSQL databases and have experience in optimizing search and retrieval of data to ensure optimal performance.\\n\\nFinally, I am committed to providing in-depth engineering support, including debugging and performance optimizations, to ensure the successful execution of all projects. I understand the importance of communicating project updates effectively, and I have a proven track record of doing so.\\n\\nThank you for considering my application. I look forward to the opportunity to meet with you and discuss how I can contribute to your team.\\n\\nSincerely,\\n[Your Name]'}]\n"
     ]
    }
   ],
   "source": [
    "print(message_history)"
   ]
  }
 ],
 "metadata": {
  "kernelspec": {
   "display_name": "test_env",
   "language": "python",
   "name": "python3"
  },
  "language_info": {
   "codemirror_mode": {
    "name": "ipython",
    "version": 3
   },
   "file_extension": ".py",
   "mimetype": "text/x-python",
   "name": "python",
   "nbconvert_exporter": "python",
   "pygments_lexer": "ipython3",
   "version": "3.10.8"
  },
  "orig_nbformat": 4
 },
 "nbformat": 4,
 "nbformat_minor": 2
}
